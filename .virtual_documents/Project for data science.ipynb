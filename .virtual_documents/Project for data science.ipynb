# from bs4 import BeautifulSoup
# import requests
# URL = "http://www.example.com"
# page = requests.get(URL)
# soup = BeautifulSoup(page.content, "html.parser")


# import scrapy
# class QuotesSpider(scrapy.Spider):
#     name = "quotes"
#     start_urls = ['http://quotes.toscrape.com/tag/humor/',]
#     def parse(self, response):
#         for quote in response.css('div.quote'):
#             yield {'quote': quote.css('span.text::text').get()}


# from selenium import webdriver
# driver = webdriver.Firefox()
# driver.get("http://www.example.com")





# Install libraries for web scraping and data analysis
!pip install bs4
!pip install lxml
!pip install html5lib
!pip install pandas


# suppress all warnings
import warnings
warnings.simplefilter("ignore")


from bs4 import BeautifulSoup
import requests



