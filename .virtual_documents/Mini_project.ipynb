








!pip install yfinance
!pip install matplotlib


# using the yfinance library to Extract stock data
import yfinance as yf

apple = yf.Ticker("AAPL")



# use attribute info for extract infomation
import json
import requests

url = "https://cf-courses-data.s3.us.cloud-object-storage.appdomain.cloud/IBMDeveloperSkillsNetwork-PY0220EN-SkillsNetwork/data/apple.json"
def get_info(url, filename):
    response = requests.get(url)
    if response.status_code== 200:
        with open ("apple.json", "r") as jason_file:
            apple_info =json.load(jason_file)
            return apple_info
    else: 
        print("Download filded")
        return None
    

apple_info = get_info(url,"apple.json")
apple_info


apple_info["country"]





apple_share_price_data = apple.history(period="max")
apple_share_price_data.head()


apple_share_price_data.reset_index(inplace=True)


apple_share_price_data.plot(x="Date", y="Open")





apple.dividends


apple.dividends.plot()








import yfinance as yf

# Download historical data for a stock
msft = yf.Ticker("MSFT")
msft_data = msft.history(period="max")

# Display the downloaded data
msft_data.head()






