{
 "cells": [
  {
   "cell_type": "code",
   "execution_count": null,
   "id": "79e66eca-d05a-4596-8a84-6f367a3a50c6",
   "metadata": {},
   "outputs": [],
   "source": [
    "# from bs4 import BeautifulSoup\n",
    "# import requests\n",
    "# URL = \"http://www.example.com\"\n",
    "# page = requests.get(URL)\n",
    "# soup = BeautifulSoup(page.content, \"html.parser\")"
   ]
  },
  {
   "cell_type": "code",
   "execution_count": null,
   "id": "20ea5427-0fc0-4200-a174-ca06ef5af309",
   "metadata": {},
   "outputs": [],
   "source": [
    "# import scrapy\n",
    "# class QuotesSpider(scrapy.Spider):\n",
    "#     name = \"quotes\"\n",
    "#     start_urls = ['http://quotes.toscrape.com/tag/humor/',]\n",
    "#     def parse(self, response):\n",
    "#         for quote in response.css('div.quote'):\n",
    "#             yield {'quote': quote.css('span.text::text').get()}"
   ]
  },
  {
   "cell_type": "code",
   "execution_count": null,
   "id": "78bc8f52-3815-4435-9486-f815fa8c8796",
   "metadata": {},
   "outputs": [],
   "source": [
    "# from selenium import webdriver\n",
    "# driver = webdriver.Firefox()\n",
    "# driver.get(\"http://www.example.com\")"
   ]
  },
  {
   "cell_type": "markdown",
   "id": "ff27e0b1-9ae5-41e0-b514-23f644ebd5c8",
   "metadata": {},
   "source": [
    "# Web scraping"
   ]
  },
  {
   "cell_type": "code",
   "execution_count": 10,
   "id": "6d4e5bb4-7ed3-4152-a6ee-ab5834bc71ee",
   "metadata": {},
   "outputs": [
    {
     "name": "stdout",
     "output_type": "stream",
     "text": [
      "Defaulting to user installation because normal site-packages is not writeable\n",
      "Requirement already satisfied: bs4 in c:\\users\\you computer\\appdata\\roaming\\python\\python312\\site-packages (0.0.2)\n",
      "Requirement already satisfied: beautifulsoup4 in c:\\users\\you computer\\appdata\\roaming\\python\\python312\\site-packages (from bs4) (4.10.0)\n",
      "Requirement already satisfied: soupsieve>1.2 in c:\\users\\anaconda3\\lib\\site-packages (from beautifulsoup4->bs4) (2.5)\n",
      "Defaulting to user installation because normal site-packages is not writeable\n",
      "Requirement already satisfied: lxml in c:\\users\\anaconda3\\lib\\site-packages (5.2.1)\n",
      "Defaulting to user installation because normal site-packages is not writeable\n",
      "Requirement already satisfied: html5lib in c:\\users\\you computer\\appdata\\roaming\\python\\python312\\site-packages (1.1)\n",
      "Requirement already satisfied: six>=1.9 in c:\\users\\anaconda3\\lib\\site-packages (from html5lib) (1.16.0)\n",
      "Requirement already satisfied: webencodings in c:\\users\\anaconda3\\lib\\site-packages (from html5lib) (0.5.1)\n",
      "Defaulting to user installation because normal site-packages is not writeable\n",
      "Requirement already satisfied: pandas in c:\\users\\anaconda3\\lib\\site-packages (2.2.2)\n",
      "Requirement already satisfied: numpy>=1.26.0 in c:\\users\\anaconda3\\lib\\site-packages (from pandas) (1.26.4)\n",
      "Requirement already satisfied: python-dateutil>=2.8.2 in c:\\users\\anaconda3\\lib\\site-packages (from pandas) (2.9.0.post0)\n",
      "Requirement already satisfied: pytz>=2020.1 in c:\\users\\anaconda3\\lib\\site-packages (from pandas) (2024.1)\n",
      "Requirement already satisfied: tzdata>=2022.7 in c:\\users\\anaconda3\\lib\\site-packages (from pandas) (2023.3)\n",
      "Requirement already satisfied: six>=1.5 in c:\\users\\anaconda3\\lib\\site-packages (from python-dateutil>=2.8.2->pandas) (1.16.0)\n"
     ]
    }
   ],
   "source": [
    "# Install libraries for web scraping and data analysis\n",
    "!pip install bs4\n",
    "!pip install lxml\n",
    "!pip install html5lib\n",
    "!pip install pandas"
   ]
  },
  {
   "cell_type": "code",
   "execution_count": 11,
   "id": "ef4d5faf-0c48-484d-a4b9-64dbef63bca0",
   "metadata": {},
   "outputs": [],
   "source": [
    "# suppress all warnings\n",
    "import warnings\n",
    "warnings.simplefilter(\"ignore\")"
   ]
  },
  {
   "cell_type": "code",
   "execution_count": 12,
   "id": "b2ad6fb4-31ae-4cb1-bf19-59a10d91f19a",
   "metadata": {},
   "outputs": [],
   "source": [
    "from bs4 import BeautifulSoup # this module helps in web scrapping.\n",
    "import requests # this module helps us to download a web page"
   ]
  },
  {
   "cell_type": "code",
   "execution_count": 16,
   "id": "edd63a04-26f8-4320-9397-7a5a22587eeb",
   "metadata": {},
   "outputs": [
    {
     "data": {
      "text/html": [
       "<!DOCTYPE  html>\n",
       "<html>\n",
       "    \n",
       "<head>\n",
       "    <title>Page Title</title>\n",
       "</head>    \n",
       "    <body>\n",
       "        <h3><b id= \"boldest\">Lebron James</b></h3>\n",
       "        <p>Salary: $ 92,000,000</p>\n",
       "        <h3>Stephen Curry</h3>\n",
       "        <p>Salary: $ 85,000,000</p>\n",
       "        <h3><Kevin Durant</h3>\n",
       "        <p>Salary: $ 73,000,000</p>\n",
       "    </body>    \n",
       "</html>\n",
       "\n",
       "    \n"
      ],
      "text/plain": [
       "<IPython.core.display.HTML object>"
      ]
     },
     "metadata": {},
     "output_type": "display_data"
    }
   ],
   "source": [
    "%%html\n",
    "<!DOCTYPE  html>\n",
    "<html>\n",
    "    \n",
    "<head>\n",
    "    <title>Page Title</title>\n",
    "</head>    \n",
    "    <body>\n",
    "        <h3><b id= \"boldest\">Lebron James</b></h3>\n",
    "        <p>Salary: $ 92,000,000</p>\n",
    "        <h3>Stephen Curry</h3>\n",
    "        <p>Salary: $ 85,000,000</p>\n",
    "        <h3><Kevin Durant</h3>\n",
    "        <p>Salary: $ 73,000,000</p>\n",
    "    </body>    \n",
    "</html>\n",
    "\n",
    "    "
   ]
  },
  {
   "cell_type": "code",
   "execution_count": 31,
   "id": "7444db07-5bda-4c16-9787-4a3aab8e9a3e",
   "metadata": {},
   "outputs": [],
   "source": [
    "# We can store it as a string in the variable HTML\n",
    "html = \"\"\"<!DOCTYPE  html><html><head><title>Page Title</title></head><body><h3><b id= \"boldest\">Lebron James</b></h3><p>Salary: $ 92,000,000</p><h3>Stephen Curry</h3><p>Salary: $ 85,000,000</p><h3><Kevin Durant</h3><p>Salary: $ 73,000,000</p></body></html>\"\"\""
   ]
  },
  {
   "cell_type": "code",
   "execution_count": 32,
   "id": "f9231d2f-f1b7-48a9-9d28-b0f75b559f9e",
   "metadata": {},
   "outputs": [],
   "source": [
    "soup = BeautifulSoup(html,\"html.parser\")"
   ]
  },
  {
   "cell_type": "code",
   "execution_count": 33,
   "id": "15431ada-91c9-4d77-8ca7-1bdfa03c7264",
   "metadata": {},
   "outputs": [
    {
     "name": "stdout",
     "output_type": "stream",
     "text": [
      "<!DOCTYPE  html>\n",
      "<html>\n",
      " <head>\n",
      "  <title>\n",
      "   Page Title\n",
      "  </title>\n",
      " </head>\n",
      " <body>\n",
      "  <h3>\n",
      "   <b id=\"boldest\">\n",
      "    Lebron James\n",
      "   </b>\n",
      "  </h3>\n",
      "  <p>\n",
      "   Salary: $ 92,000,000\n",
      "  </p>\n",
      "  <h3>\n",
      "   Stephen Curry\n",
      "  </h3>\n",
      "  <p>\n",
      "   Salary: $ 85,000,000\n",
      "  </p>\n",
      "  <h3>\n",
      "   <kevin durant<=\"\" h3=\"\">\n",
      "    <p>\n",
      "     Salary: $ 73,000,000\n",
      "    </p>\n",
      "   </kevin>\n",
      "  </h3>\n",
      " </body>\n",
      "</html>\n"
     ]
    }
   ],
   "source": [
    "print(soup.prettify())"
   ]
  },
  {
   "cell_type": "code",
   "execution_count": 34,
   "id": "d5ef4a47-5ac0-47e2-aea8-096683a78e33",
   "metadata": {},
   "outputs": [
    {
     "name": "stdout",
     "output_type": "stream",
     "text": [
      "tag_title:  <title>Page Title</title>\n"
     ]
    }
   ],
   "source": [
    "# check title tag\n",
    "tag_object = soup.title\n",
    "print(\"tag_title: \", tag_object)"
   ]
  },
  {
   "cell_type": "code",
   "execution_count": 35,
   "id": "8b54f042-9fb0-4b7d-ab3f-5695d16840d1",
   "metadata": {},
   "outputs": [
    {
     "name": "stdout",
     "output_type": "stream",
     "text": [
      "tag object type:  <class 'bs4.element.Tag'>\n"
     ]
    }
   ],
   "source": [
    "# see tag type\n",
    "print(\"tag object type: \", type(tag_object))"
   ]
  },
  {
   "cell_type": "code",
   "execution_count": 36,
   "id": "a6889223-05d1-4e77-9136-b328d5307c75",
   "metadata": {},
   "outputs": [
    {
     "data": {
      "text/plain": [
       "<h3><b id=\"boldest\">Lebron James</b></h3>"
      ]
     },
     "execution_count": 36,
     "metadata": {},
     "output_type": "execute_result"
    }
   ],
   "source": [
    "tag_object = soup.h3\n",
    "tag_object"
   ]
  },
  {
   "cell_type": "markdown",
   "id": "2adb56bc-2dc0-432a-bfed-7fec3c08bc1a",
   "metadata": {},
   "source": [
    "## children , Parents, siblings"
   ]
  },
  {
   "cell_type": "code",
   "execution_count": 37,
   "id": "836bc9d2-73cb-4b88-8d7d-88f1a3d61f38",
   "metadata": {},
   "outputs": [
    {
     "data": {
      "text/plain": [
       "<b id=\"boldest\">Lebron James</b>"
      ]
     },
     "execution_count": 37,
     "metadata": {},
     "output_type": "execute_result"
    }
   ],
   "source": [
    "t_chil = tag_object.b\n",
    "t_chil"
   ]
  },
  {
   "cell_type": "code",
   "execution_count": 38,
   "id": "b6061ea5-9063-4dc3-8789-d94c601b82fa",
   "metadata": {},
   "outputs": [
    {
     "data": {
      "text/plain": [
       "<h3><b id=\"boldest\">Lebron James</b></h3>"
      ]
     },
     "execution_count": 38,
     "metadata": {},
     "output_type": "execute_result"
    }
   ],
   "source": [
    "# access parants\n",
    "parentTag = t_chil.parent\n",
    "parentTag"
   ]
  },
  {
   "cell_type": "code",
   "execution_count": 39,
   "id": "e7561c4c-b9f9-4959-8457-c9685ff5cb09",
   "metadata": {},
   "outputs": [
    {
     "data": {
      "text/plain": [
       "<body><h3><b id=\"boldest\">Lebron James</b></h3><p>Salary: $ 92,000,000</p><h3>Stephen Curry</h3><p>Salary: $ 85,000,000</p><h3><kevin durant<=\"\" h3=\"\"><p>Salary: $ 73,000,000</p></kevin></h3></body>"
      ]
     },
     "execution_count": 39,
     "metadata": {},
     "output_type": "execute_result"
    }
   ],
   "source": [
    "tag_object.parent"
   ]
  },
  {
   "cell_type": "code",
   "execution_count": 40,
   "id": "7ec3dc2e-290a-4cad-83c3-6d5c1a2f03c3",
   "metadata": {},
   "outputs": [
    {
     "data": {
      "text/plain": [
       "<p>Salary: $ 92,000,000</p>"
      ]
     },
     "execution_count": 40,
     "metadata": {},
     "output_type": "execute_result"
    }
   ],
   "source": [
    "sib1 = tag_object.next_sibling\n",
    "sib1"
   ]
  },
  {
   "cell_type": "code",
   "execution_count": 42,
   "id": "2c2e4bb2-d1bd-4e6b-95db-a037228faf3f",
   "metadata": {},
   "outputs": [
    {
     "data": {
      "text/plain": [
       "<h3>Stephen Curry</h3>"
      ]
     },
     "execution_count": 42,
     "metadata": {},
     "output_type": "execute_result"
    }
   ],
   "source": [
    "sib2 = sib1.next_sibling\n",
    "sib2"
   ]
  },
  {
   "cell_type": "markdown",
   "id": "9f4b9391-984b-49e7-a33f-06960fa3a914",
   "metadata": {},
   "source": [
    "## HTML Attributes"
   ]
  },
  {
   "cell_type": "code",
   "execution_count": 43,
   "id": "4d5ed947-d88f-43a3-bea8-c44094e1463b",
   "metadata": {},
   "outputs": [
    {
     "data": {
      "text/plain": [
       "'boldest'"
      ]
     },
     "execution_count": 43,
     "metadata": {},
     "output_type": "execute_result"
    }
   ],
   "source": [
    "t_chil[\"id\"]"
   ]
  },
  {
   "cell_type": "code",
   "execution_count": 44,
   "id": "f8b082e4-d41b-45f4-91f3-8d220f506667",
   "metadata": {},
   "outputs": [
    {
     "data": {
      "text/plain": [
       "{'id': 'boldest'}"
      ]
     },
     "execution_count": 44,
     "metadata": {},
     "output_type": "execute_result"
    }
   ],
   "source": [
    "t_chil.attrs"
   ]
  },
  {
   "cell_type": "code",
   "execution_count": 46,
   "id": "9c7e9e8b-e47c-4d4a-a1ac-751cd0605056",
   "metadata": {},
   "outputs": [
    {
     "data": {
      "text/plain": [
       "'boldest'"
      ]
     },
     "execution_count": 46,
     "metadata": {},
     "output_type": "execute_result"
    }
   ],
   "source": [
    "# get id\n",
    "t_chil.get(\"id\")"
   ]
  },
  {
   "cell_type": "code",
   "execution_count": 47,
   "id": "8e0b69bf-ed4b-44f3-b4dc-e8412ce02dbb",
   "metadata": {},
   "outputs": [
    {
     "data": {
      "text/plain": [
       "'Lebron James'"
      ]
     },
     "execution_count": 47,
     "metadata": {},
     "output_type": "execute_result"
    }
   ],
   "source": [
    "## Navigable String\n",
    "t_str = t_chil.string\n",
    "t_str"
   ]
  },
  {
   "cell_type": "code",
   "execution_count": 48,
   "id": "024a1820-939e-4dd6-90f5-205f2758de99",
   "metadata": {},
   "outputs": [
    {
     "data": {
      "text/plain": [
       "bs4.element.NavigableString"
      ]
     },
     "execution_count": 48,
     "metadata": {},
     "output_type": "execute_result"
    }
   ],
   "source": [
    "type(t_str)"
   ]
  },
  {
   "cell_type": "code",
   "execution_count": 50,
   "id": "66434111-8982-4cfe-ba01-b45889bff547",
   "metadata": {},
   "outputs": [
    {
     "data": {
      "text/plain": [
       "'Lebron James'"
      ]
     },
     "execution_count": 50,
     "metadata": {},
     "output_type": "execute_result"
    }
   ],
   "source": [
    "# convert NavigableString to Python or unicode string\n",
    "pythonStr = str(t_str)\n",
    "pythonStr"
   ]
  },
  {
   "cell_type": "markdown",
   "id": "e7524272-01a2-4be2-ba5d-033e6c38440d",
   "metadata": {},
   "source": [
    "## Filter"
   ]
  },
  {
   "cell_type": "code",
   "execution_count": 59,
   "id": "030d3a93-e1bb-49df-810a-96512368f61f",
   "metadata": {},
   "outputs": [
    {
     "data": {
      "text/html": [
       "<table>\n",
       "<tr>\n",
       " <td id='flight' >Flight No</td>\n",
       " <td>Launch site</td>\n",
       " <td>Payload mass</td>\n",
       "</tr>\n",
       "\n",
       "<tr>\n",
       " <td>1</td>\n",
       " <td><a href ='https://en.wikipedia.org/wiki/Florida'>Florida</a></td>\n",
       " <td>300 kg</td>\n",
       "</tr>\n",
       " \n",
       "<tr>\n",
       " <td>2</td>\n",
       " <td><a href ='https://en.wikipedia.org/wiki/Texas'>Texas</a></td>\n",
       " <td>94 kg</td>\n",
       "</tr>\n",
       "\n",
       "<tr>\n",
       " <td>3</td>\n",
       " <td><a href ='https://en.wikipedia.org/wiki/Florida'>Florida</a></td>\n",
       " <td>80 kg</td>\n",
       "</tr>\n",
       "</table>\n"
      ],
      "text/plain": [
       "<IPython.core.display.HTML object>"
      ]
     },
     "metadata": {},
     "output_type": "display_data"
    }
   ],
   "source": [
    "%%html\n",
    "<table>\n",
    "<tr>\n",
    " <td id='flight' >Flight No</td>\n",
    " <td>Launch site</td>\n",
    " <td>Payload mass</td>\n",
    "</tr>\n",
    "\n",
    "<tr>\n",
    " <td>1</td>\n",
    " <td><a href ='https://en.wikipedia.org/wiki/Florida'>Florida</a></td>\n",
    " <td>300 kg</td>\n",
    "</tr>\n",
    " \n",
    "<tr>\n",
    " <td>2</td>\n",
    " <td><a href ='https://en.wikipedia.org/wiki/Texas'>Texas</a></td>\n",
    " <td>94 kg</td>\n",
    "</tr>\n",
    "\n",
    "<tr>\n",
    " <td>3</td>\n",
    " <td><a href ='https://en.wikipedia.org/wiki/Florida'>Florida</a></td>\n",
    " <td>80 kg</td>\n",
    "</tr>\n",
    "</table>"
   ]
  },
  {
   "cell_type": "code",
   "execution_count": 51,
   "id": "9670571e-a92b-4aa1-a4c5-494b7965a6b3",
   "metadata": {},
   "outputs": [],
   "source": [
    "# Add html to string\n",
    "table = \"<table><tr><td id='flight' >Flight No</td><td>Launch site</td><td>Payload mass</td></tr><tr><td>1</td><td><a href='https://en.wikipedia.org/wiki/Florida'>Florida</a></td><td>300 kg</td></tr><tr><td>2</td><td><a href='https://en.wikipedia.org/wiki/Texas'>Texas</a></td><td>94 kg</td></tr><tr><td>3</td><td><a href='https://en.wikipedia.org/wiki/Florida'>Florida</a> </td><td>80 kg</td></tr></table>\"\n",
    "table_bs = BeautifulSoup(table,\"html.parser\")"
   ]
  },
  {
   "cell_type": "code",
   "execution_count": 54,
   "id": "d176f6dd-6865-45ab-82ae-292b5921f4fe",
   "metadata": {},
   "outputs": [
    {
     "data": {
      "text/plain": [
       "[<tr><td id=\"flight\">Flight No</td><td>Launch site</td><td>Payload mass</td></tr>,\n",
       " <tr><td>1</td><td><a href=\"https://en.wikipedia.org/wiki/Florida\">Florida</a></td><td>300 kg</td></tr>,\n",
       " <tr><td>2</td><td><a href=\"https://en.wikipedia.org/wiki/Texas\">Texas</a></td><td>94 kg</td></tr>,\n",
       " <tr><td>3</td><td><a href=\"https://en.wikipedia.org/wiki/Florida\">Florida</a> </td><td>80 kg</td></tr>]"
      ]
     },
     "execution_count": 54,
     "metadata": {},
     "output_type": "execute_result"
    }
   ],
   "source": [
    "# usr findall looks a tag's descendants\n",
    "tb_rows = table_bs.find_all(\"tr\")\n",
    "tb_rows"
   ]
  },
  {
   "cell_type": "code",
   "execution_count": 64,
   "id": "a44534cb-919c-469a-b047-73468e651a29",
   "metadata": {},
   "outputs": [
    {
     "name": "stdout",
     "output_type": "stream",
     "text": [
      "This is first row:  <tr><td id=\"flight\">Flight No</td><td>Launch site</td><td>Payload mass</td></tr>\n"
     ]
    },
    {
     "data": {
      "text/plain": [
       "<td id=\"flight\">Flight No</td>"
      ]
     },
     "execution_count": 64,
     "metadata": {},
     "output_type": "execute_result"
    }
   ],
   "source": [
    "first_row = tb_rows[0]\n",
    "print(\"This is first row: \",first_row)\n",
    "\n",
    "first_row.td"
   ]
  },
  {
   "cell_type": "code",
   "execution_count": 63,
   "id": "fac2e3f8-6466-4373-a1d8-6736aaf34401",
   "metadata": {},
   "outputs": [
    {
     "name": "stdout",
     "output_type": "stream",
     "text": [
      "row:  0 is  <tr><td id=\"flight\">Flight No</td><td>Launch site</td><td>Payload mass</td></tr>\n",
      "row:  1 is  <tr><td>1</td><td><a href=\"https://en.wikipedia.org/wiki/Florida\">Florida</a></td><td>300 kg</td></tr>\n",
      "row:  2 is  <tr><td>2</td><td><a href=\"https://en.wikipedia.org/wiki/Texas\">Texas</a></td><td>94 kg</td></tr>\n",
      "row:  3 is  <tr><td>3</td><td><a href=\"https://en.wikipedia.org/wiki/Florida\">Florida</a> </td><td>80 kg</td></tr>\n"
     ]
    }
   ],
   "source": [
    "for i, row in enumerate(tb_rows):\n",
    "    print(\"row: \", i, \"is \", row)"
   ]
  },
  {
   "cell_type": "code",
   "execution_count": null,
   "id": "69302812-66db-446d-9be2-c7e7d3d28b98",
   "metadata": {},
   "outputs": [],
   "source": [
    "for i, row in enumerate(tb_rows):\n",
    "    print(\"row \", i)\n",
    "    cells= row.find_all(\"td\")\n",
    "    for j, cell in enumerate(cells):\n",
    "        print(\"column \", j, \"is \",cell)"
   ]
  }
 ],
 "metadata": {
  "kernelspec": {
   "display_name": "Python 3 (ipykernel)",
   "language": "python",
   "name": "python3"
  },
  "language_info": {
   "codemirror_mode": {
    "name": "ipython",
    "version": 3
   },
   "file_extension": ".py",
   "mimetype": "text/x-python",
   "name": "python",
   "nbconvert_exporter": "python",
   "pygments_lexer": "ipython3",
   "version": "3.12.7"
  }
 },
 "nbformat": 4,
 "nbformat_minor": 5
}
